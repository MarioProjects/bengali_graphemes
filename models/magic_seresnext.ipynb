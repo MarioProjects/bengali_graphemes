{
 "cells": [
  {
   "cell_type": "code",
   "execution_count": 52,
   "metadata": {},
   "outputs": [],
   "source": [
    "import torch.nn as nn"
   ]
  },
  {
   "cell_type": "code",
   "execution_count": 53,
   "metadata": {},
   "outputs": [],
   "source": [
    "from pytorchcv.model_provider import get_model as ptcv_get_model"
   ]
  },
  {
   "cell_type": "code",
   "execution_count": 93,
   "metadata": {},
   "outputs": [],
   "source": [
    "model = ptcv_get_model(\"seresnext101_32x4d\", pretrained=False)"
   ]
  },
  {
   "cell_type": "code",
   "execution_count": 89,
   "metadata": {},
   "outputs": [],
   "source": [
    "modules = {}\n",
    "for name, module in model.named_modules():\n",
    "    if(isinstance(module, nn.Conv2d)):\n",
    "        stride = module.stride\n",
    "        if stride == (2, 2) or stride == 2:\n",
    "            module.stride = (1,1)\n",
    "            modules[name] = module\n",
    "        elif stride == 2:\n",
    "            module.stride = 1\n",
    "            modules[name] = module"
   ]
  },
  {
   "cell_type": "code",
   "execution_count": 90,
   "metadata": {},
   "outputs": [],
   "source": [
    "for name in modules:\n",
    "    parent_module = model\n",
    "    objs = name.split(\".\")\n",
    "    if len(objs) == 1:\n",
    "        #model.__setattr__(name, modules[name])\n",
    "        model.__setattr__(\"magicMaxPool\", nn.MaxPool2d(kernel_size=2, stride=2))\n",
    "        continue\n",
    "\n",
    "    for obj in objs[:-1]:\n",
    "        parent_module = parent_module.__getattr__(obj)\n",
    "\n",
    "    #parent_module.__setattr__(objs[-1], modules[name])\n",
    "    parent_module.__setattr__(\"magicMaxPool\", nn.MaxPool2d(kernel_size=2, stride=2))"
   ]
  }
 ],
 "metadata": {
  "kernelspec": {
   "display_name": "Python 3",
   "language": "python",
   "name": "python3"
  },
  "language_info": {
   "codemirror_mode": {
    "name": "ipython",
    "version": 3
   },
   "file_extension": ".py",
   "mimetype": "text/x-python",
   "name": "python",
   "nbconvert_exporter": "python",
   "pygments_lexer": "ipython3",
   "version": "3.7.5"
  }
 },
 "nbformat": 4,
 "nbformat_minor": 2
}
