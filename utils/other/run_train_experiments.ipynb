{
 "cells": [
  {
   "cell_type": "code",
   "execution_count": 1,
   "metadata": {},
   "outputs": [],
   "source": [
    "import os\n",
    "import random\n",
    "import warnings\n",
    "from sklearn.model_selection import KFold\n",
    "\n",
    "import cv2\n",
    "import numpy as np\n",
    "import pandas as pd\n",
    "import sklearn.metrics\n",
    "import torch\n",
    "import torch.nn.functional as F\n",
    "import torch.optim as optim\n",
    "import torchvision\n",
    "from albumentations import Compose, ShiftScaleRotate, Resize\n",
    "from albumentations.pytorch import ToTensorV2\n",
    "from os import environ\n",
    "from torch.utils.data import Dataset\n",
    "from torch.utils.tensorboard import SummaryWriter\n",
    "from tqdm import tqdm\n",
    "import socket\n",
    "\n",
    "import fastai\n",
    "from fastai.vision import *\n",
    "from fastai.callbacks import SaveModelCallback\n",
    "warnings.filterwarnings(\"ignore\")"
   ]
  },
  {
   "cell_type": "code",
   "execution_count": 2,
   "metadata": {},
   "outputs": [],
   "source": [
    "import sys\n",
    "sys.path.append(\"../..\")"
   ]
  },
  {
   "cell_type": "code",
   "execution_count": 3,
   "metadata": {},
   "outputs": [],
   "source": [
    "from utils.csvlogger import *\n",
    "from utils.radam import *\n",
    "\n",
    "#from utils.arguments.train_arguments import *\n",
    "from models import *\n",
    "from utils.training import *"
   ]
  },
  {
   "cell_type": "code",
   "execution_count": 4,
   "metadata": {},
   "outputs": [],
   "source": [
    "sz = 32\n",
    "bs = 512\n",
    "\n",
    "nfolds = 4  # keep the same split as the initial dataset\n",
    "fold = 0\n",
    "SEED = 2019\n",
    "\n",
    "if environ.get('BENGALI_DATA_PATH') is not None:\n",
    "    INPUT_PATH = environ.get('BENGALI_DATA_PATH')\n",
    "    TRAIN_IMGS = \"grapheme-imgs\"\n",
    "    LABELS = INPUT_PATH + \"/train.csv\"\n",
    "else:\n",
    "    assert False, \"Please set the environment variable BENGALI_DATA_PATH. Read the README!\"\n",
    "\n",
    "df = pd.read_csv(LABELS)\n",
    "nunique = list(df.nunique())[1:-1]\n",
    "\n",
    "stats = ([0.0692], [0.2051])"
   ]
  },
  {
   "cell_type": "code",
   "execution_count": 5,
   "metadata": {},
   "outputs": [],
   "source": [
    "data = (ImageList.from_df(df, path=INPUT_PATH, folder=TRAIN_IMGS, suffix='.png',\n",
    "                          cols='image_id', convert_mode='L')\n",
    "        .split_by_idx(range(fold * len(df) // nfolds, (fold + 1) * len(df) // nfolds))\n",
    "        .label_from_df(cols=['grapheme_root', 'vowel_diacritic', 'consonant_diacritic'])\n",
    "        .transform(data_augmentation_selector(\"da7\"), size=sz, padding_mode='zeros')\n",
    "        .databunch(bs=bs)).normalize(stats)"
   ]
  },
  {
   "cell_type": "code",
   "execution_count": 6,
   "metadata": {},
   "outputs": [],
   "source": [
    "writer = SummaryWriter(log_dir='test/')"
   ]
  },
  {
   "cell_type": "code",
   "execution_count": 7,
   "metadata": {},
   "outputs": [],
   "source": [
    "model = model_selector(\"densenet121\", \"initial_head\", nunique)"
   ]
  },
  {
   "cell_type": "markdown",
   "metadata": {},
   "source": [
    "# Train"
   ]
  },
  {
   "cell_type": "code",
   "execution_count": 8,
   "metadata": {},
   "outputs": [],
   "source": [
    "learn = Learner(data, model, loss_func=Loss_combine(), opt_func=Over9000,\n",
    "                metrics=[Metric_grapheme(), Metric_vowel(), Metric_consonant(), Metric_tot()])"
   ]
  },
  {
   "cell_type": "code",
   "execution_count": 9,
   "metadata": {},
   "outputs": [],
   "source": [
    "logger = CSVLogger(learn, writer,f'test_log{fold}')\n",
    "learn.clip_grad = 1.0\n",
    "#learn.model = nn.DataParallel(learn.model, device_ids=[0, 1])\n",
    "learn.split([model.head1])\n",
    "learn.unfreeze()"
   ]
  },
  {
   "cell_type": "code",
   "execution_count": 10,
   "metadata": {},
   "outputs": [
    {
     "data": {
      "text/html": [
       "<table border=\"1\" class=\"dataframe\">\n",
       "  <thead>\n",
       "    <tr style=\"text-align: left;\">\n",
       "      <th>epoch</th>\n",
       "      <th>train_loss</th>\n",
       "      <th>valid_loss</th>\n",
       "      <th>metric_idx</th>\n",
       "      <th>metric_idx</th>\n",
       "      <th>metric_idx</th>\n",
       "      <th>metric_tot</th>\n",
       "      <th>time</th>\n",
       "    </tr>\n",
       "  </thead>\n",
       "  <tbody>\n",
       "    <tr>\n",
       "      <td>0</td>\n",
       "      <td>12.674604</td>\n",
       "      <td>10.531393</td>\n",
       "      <td>0.036853</td>\n",
       "      <td>0.519552</td>\n",
       "      <td>0.400729</td>\n",
       "      <td>0.248497</td>\n",
       "      <td>01:47</td>\n",
       "    </tr>\n",
       "  </tbody>\n",
       "</table>"
      ],
      "text/plain": [
       "<IPython.core.display.HTML object>"
      ]
     },
     "metadata": {},
     "output_type": "display_data"
    }
   ],
   "source": [
    "learn.fit_one_cycle(\n",
    "    1,\n",
    "    max_lr=slice(0.2e-2, 1e-2),\n",
    "    wd=[1e-3, 0.1e-1],\n",
    "    pct_start=0.0,\n",
    "    div_factor=100,\n",
    "    callbacks=[\n",
    "        logger,\n",
    "        SaveModelCallback(learn, monitor='metric_tot', mode='max', name=f'test_model_{fold}')\n",
    "    ]\n",
    ")"
   ]
  },
  {
   "cell_type": "code",
   "execution_count": 11,
   "metadata": {},
   "outputs": [],
   "source": [
    "writer.close()"
   ]
  },
  {
   "cell_type": "code",
   "execution_count": 15,
   "metadata": {},
   "outputs": [],
   "source": [
    "slack_message(\"[{}] - BENGALI - {}\".format(socket.gethostname().upper(), getMetricTot(learn)), \"experimentos\")"
   ]
  }
 ],
 "metadata": {
  "kernelspec": {
   "display_name": "Python 3",
   "language": "python",
   "name": "python3"
  },
  "language_info": {
   "codemirror_mode": {
    "name": "ipython",
    "version": 3
   },
   "file_extension": ".py",
   "mimetype": "text/x-python",
   "name": "python",
   "nbconvert_exporter": "python",
   "pygments_lexer": "ipython3",
   "version": "3.7.5"
  }
 },
 "nbformat": 4,
 "nbformat_minor": 2
}
